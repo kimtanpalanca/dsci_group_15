{
 "cells": [
  {
   "cell_type": "markdown",
   "metadata": {},
   "source": [
    "### Preliminary Exploratory Data Analysis"
   ]
  },
  {
   "cell_type": "code",
   "execution_count": 5,
   "metadata": {},
   "outputs": [],
   "source": [
    "library(tidyverse)\n",
    "library(repr)\n",
    "library(tidymodels)\n",
    "library(GGally)\n",
    "\n",
    "set.seed(1234)\n",
    "\n",
    "#this library() function loads the tidymodels, repr, tidyverse, and GGally libraries into R\n",
    "#the set.seed() function sets the seed for the project"
   ]
  },
  {
   "cell_type": "code",
   "execution_count": 6,
   "metadata": {},
   "outputs": [
    {
     "name": "stderr",
     "output_type": "stream",
     "text": [
      "Warning message:\n",
      "“Missing column names filled in: 'X1' [1]”\n",
      "Parsed with column specification:\n",
      "cols(\n",
      "  .default = col_double(),\n",
      "  tourney_id = \u001b[31mcol_character()\u001b[39m,\n",
      "  tourney_name = \u001b[31mcol_character()\u001b[39m,\n",
      "  surface = \u001b[31mcol_character()\u001b[39m,\n",
      "  tourney_level = \u001b[31mcol_character()\u001b[39m,\n",
      "  winner_seed = \u001b[31mcol_character()\u001b[39m,\n",
      "  winner_entry = \u001b[31mcol_character()\u001b[39m,\n",
      "  winner_name = \u001b[31mcol_character()\u001b[39m,\n",
      "  winner_hand = \u001b[31mcol_character()\u001b[39m,\n",
      "  winner_ioc = \u001b[31mcol_character()\u001b[39m,\n",
      "  loser_seed = \u001b[31mcol_character()\u001b[39m,\n",
      "  loser_entry = \u001b[31mcol_character()\u001b[39m,\n",
      "  loser_name = \u001b[31mcol_character()\u001b[39m,\n",
      "  loser_hand = \u001b[31mcol_character()\u001b[39m,\n",
      "  loser_ioc = \u001b[31mcol_character()\u001b[39m,\n",
      "  score = \u001b[31mcol_character()\u001b[39m,\n",
      "  round = \u001b[31mcol_character()\u001b[39m\n",
      ")\n",
      "\n",
      "See spec(...) for full column specifications.\n",
      "\n"
     ]
    }
   ],
   "source": [
    "data <- read_csv(\"https://raw.githubusercontent.com/kimtanpalanca/dsci_group_15/main/atp2017-2019.csv\")\n",
    "#the tennnis player data is referred to as the object \"data\" throughout this analysis"
   ]
  },
  {
   "cell_type": "code",
   "execution_count": 7,
   "metadata": {},
   "outputs": [
    {
     "data": {
      "text/html": [
       "<table>\n",
       "<caption>A tibble: 5 × 8</caption>\n",
       "<thead>\n",
       "\t<tr><th scope=col>winner_name</th><th scope=col>w_ace</th><th scope=col>w_df</th><th scope=col>w_svpt</th><th scope=col>w_SvGms</th><th scope=col>w_1stIn</th><th scope=col>w_1stWon</th><th scope=col>loser_name</th></tr>\n",
       "\t<tr><th scope=col>&lt;chr&gt;</th><th scope=col>&lt;dbl&gt;</th><th scope=col>&lt;dbl&gt;</th><th scope=col>&lt;dbl&gt;</th><th scope=col>&lt;dbl&gt;</th><th scope=col>&lt;dbl&gt;</th><th scope=col>&lt;dbl&gt;</th><th scope=col>&lt;chr&gt;</th></tr>\n",
       "</thead>\n",
       "<tbody>\n",
       "\t<tr><td>Kei Nishikori     </td><td> 3</td><td>3</td><td> 77</td><td>13</td><td>44</td><td>31</td><td>Daniil Medvedev   </td></tr>\n",
       "\t<tr><td>Daniil Medvedev   </td><td>10</td><td>1</td><td> 52</td><td>10</td><td>33</td><td>28</td><td>Jo Wilfried Tsonga</td></tr>\n",
       "\t<tr><td>Kei Nishikori     </td><td> 2</td><td>2</td><td> 47</td><td> 8</td><td>33</td><td>26</td><td>Jeremy Chardy     </td></tr>\n",
       "\t<tr><td>Jo Wilfried Tsonga</td><td>12</td><td>2</td><td> 68</td><td>11</td><td>43</td><td>34</td><td>Alex De Minaur    </td></tr>\n",
       "\t<tr><td>Daniil Medvedev   </td><td>12</td><td>3</td><td>105</td><td>16</td><td>68</td><td>48</td><td>Milos Raonic      </td></tr>\n",
       "</tbody>\n",
       "</table>\n"
      ],
      "text/latex": [
       "A tibble: 5 × 8\n",
       "\\begin{tabular}{llllllll}\n",
       " winner\\_name & w\\_ace & w\\_df & w\\_svpt & w\\_SvGms & w\\_1stIn & w\\_1stWon & loser\\_name\\\\\n",
       " <chr> & <dbl> & <dbl> & <dbl> & <dbl> & <dbl> & <dbl> & <chr>\\\\\n",
       "\\hline\n",
       "\t Kei Nishikori      &  3 & 3 &  77 & 13 & 44 & 31 & Daniil Medvedev   \\\\\n",
       "\t Daniil Medvedev    & 10 & 1 &  52 & 10 & 33 & 28 & Jo Wilfried Tsonga\\\\\n",
       "\t Kei Nishikori      &  2 & 2 &  47 &  8 & 33 & 26 & Jeremy Chardy     \\\\\n",
       "\t Jo Wilfried Tsonga & 12 & 2 &  68 & 11 & 43 & 34 & Alex De Minaur    \\\\\n",
       "\t Daniil Medvedev    & 12 & 3 & 105 & 16 & 68 & 48 & Milos Raonic      \\\\\n",
       "\\end{tabular}\n"
      ],
      "text/markdown": [
       "\n",
       "A tibble: 5 × 8\n",
       "\n",
       "| winner_name &lt;chr&gt; | w_ace &lt;dbl&gt; | w_df &lt;dbl&gt; | w_svpt &lt;dbl&gt; | w_SvGms &lt;dbl&gt; | w_1stIn &lt;dbl&gt; | w_1stWon &lt;dbl&gt; | loser_name &lt;chr&gt; |\n",
       "|---|---|---|---|---|---|---|---|\n",
       "| Kei Nishikori      |  3 | 3 |  77 | 13 | 44 | 31 | Daniil Medvedev    |\n",
       "| Daniil Medvedev    | 10 | 1 |  52 | 10 | 33 | 28 | Jo Wilfried Tsonga |\n",
       "| Kei Nishikori      |  2 | 2 |  47 |  8 | 33 | 26 | Jeremy Chardy      |\n",
       "| Jo Wilfried Tsonga | 12 | 2 |  68 | 11 | 43 | 34 | Alex De Minaur     |\n",
       "| Daniil Medvedev    | 12 | 3 | 105 | 16 | 68 | 48 | Milos Raonic       |\n",
       "\n"
      ],
      "text/plain": [
       "  winner_name        w_ace w_df w_svpt w_SvGms w_1stIn w_1stWon\n",
       "1 Kei Nishikori       3    3     77    13      44      31      \n",
       "2 Daniil Medvedev    10    1     52    10      33      28      \n",
       "3 Kei Nishikori       2    2     47     8      33      26      \n",
       "4 Jo Wilfried Tsonga 12    2     68    11      43      34      \n",
       "5 Daniil Medvedev    12    3    105    16      68      48      \n",
       "  loser_name        \n",
       "1 Daniil Medvedev   \n",
       "2 Jo Wilfried Tsonga\n",
       "3 Jeremy Chardy     \n",
       "4 Alex De Minaur    \n",
       "5 Milos Raonic      "
      ]
     },
     "metadata": {},
     "output_type": "display_data"
    }
   ],
   "source": [
    "data <- data%>%\n",
    "    select(winner_name,\n",
    "           w_ace,\n",
    "           w_df, \n",
    "           w_svpt, \n",
    "           w_SvGms, \n",
    "           w_1stIn, \n",
    "           w_1stWon, \n",
    "           loser_name)%>%\n",
    "#the columns relevant to our analysis are selected using this select() function\n",
    "    filter(!is.na(winner_name),\n",
    "           !is.na(w_ace),\n",
    "           !is.na(w_df),\n",
    "           !is.na(w_svpt),\n",
    "           !is.na(w_SvGms),\n",
    "           !is.na(w_1stIn),\n",
    "           !is.na(w_1stWon))\n",
    "#the !is.na() argument in the filter() function eliminates NA values in the relevant columns\n",
    "\n",
    "head(data, 5)"
   ]
  },
  {
   "cell_type": "code",
   "execution_count": 8,
   "metadata": {},
   "outputs": [
    {
     "name": "stderr",
     "output_type": "stream",
     "text": [
      "`summarise()` ungrouping output (override with `.groups` argument)\n",
      "\n",
      "`summarise()` ungrouping output (override with `.groups` argument)\n",
      "\n",
      "`summarise()` ungrouping output (override with `.groups` argument)\n",
      "\n",
      "New names:\n",
      "* winner_name -> winner_name...1\n",
      "* winner_name -> winner_name...9\n",
      "\n"
     ]
    },
    {
     "data": {
      "text/html": [
       "<table>\n",
       "<caption>A tibble: 104 × 5</caption>\n",
       "<thead>\n",
       "\t<tr><th scope=col>percentage_win</th><th scope=col>avg_ace</th><th scope=col>avg_df</th><th scope=col>total_avg_svpt</th><th scope=col>first_win_percentage_avg</th></tr>\n",
       "\t<tr><th scope=col>&lt;dbl&gt;</th><th scope=col>&lt;dbl&gt;</th><th scope=col>&lt;dbl&gt;</th><th scope=col>&lt;dbl&gt;</th><th scope=col>&lt;dbl&gt;</th></tr>\n",
       "</thead>\n",
       "<tbody>\n",
       "\t<tr><td>51.27</td><td> 6.02</td><td>2.27</td><td> 92.95</td><td>73.35</td></tr>\n",
       "\t<tr><td>47.06</td><td> 3.97</td><td>2.32</td><td> 96.43</td><td>71.86</td></tr>\n",
       "\t<tr><td>59.26</td><td> 4.58</td><td>2.41</td><td> 89.00</td><td>75.87</td></tr>\n",
       "\t<tr><td>69.35</td><td> 9.06</td><td>3.48</td><td> 88.41</td><td>77.35</td></tr>\n",
       "\t<tr><td>50.98</td><td> 9.31</td><td>2.17</td><td> 90.87</td><td>78.18</td></tr>\n",
       "\t<tr><td>49.56</td><td> 7.25</td><td>2.73</td><td> 97.30</td><td>76.72</td></tr>\n",
       "\t<tr><td>55.00</td><td> 6.70</td><td>3.39</td><td> 91.45</td><td>76.13</td></tr>\n",
       "\t<tr><td>63.16</td><td> 7.22</td><td>2.89</td><td> 99.75</td><td>74.95</td></tr>\n",
       "\t<tr><td>51.90</td><td>10.17</td><td>5.11</td><td> 94.68</td><td>79.38</td></tr>\n",
       "\t<tr><td>36.67</td><td> 9.45</td><td>1.23</td><td> 89.68</td><td>75.71</td></tr>\n",
       "\t<tr><td>54.48</td><td> 6.68</td><td>2.05</td><td> 90.90</td><td>76.67</td></tr>\n",
       "\t<tr><td>47.06</td><td> 5.18</td><td>3.40</td><td> 84.53</td><td>74.23</td></tr>\n",
       "\t<tr><td>46.77</td><td> 4.86</td><td>3.03</td><td> 90.83</td><td>73.75</td></tr>\n",
       "\t<tr><td>55.74</td><td> 5.35</td><td>2.09</td><td> 94.03</td><td>73.12</td></tr>\n",
       "\t<tr><td>48.55</td><td> 3.13</td><td>3.12</td><td> 92.22</td><td>69.57</td></tr>\n",
       "\t<tr><td>50.00</td><td> 4.80</td><td>2.70</td><td> 99.17</td><td>73.75</td></tr>\n",
       "\t<tr><td>62.71</td><td> 8.26</td><td>3.08</td><td> 83.22</td><td>79.00</td></tr>\n",
       "\t<tr><td>63.74</td><td> 6.61</td><td>2.58</td><td> 93.31</td><td>75.53</td></tr>\n",
       "\t<tr><td>37.84</td><td> 8.43</td><td>1.43</td><td> 99.32</td><td>75.83</td></tr>\n",
       "\t<tr><td>38.33</td><td> 8.17</td><td>3.78</td><td>100.09</td><td>77.49</td></tr>\n",
       "\t<tr><td>55.64</td><td> 8.59</td><td>5.00</td><td> 94.54</td><td>78.92</td></tr>\n",
       "\t<tr><td>59.09</td><td> 2.68</td><td>2.88</td><td> 90.62</td><td>70.15</td></tr>\n",
       "\t<tr><td>69.65</td><td> 6.11</td><td>2.71</td><td> 89.99</td><td>76.89</td></tr>\n",
       "\t<tr><td>43.86</td><td> 4.60</td><td>4.32</td><td> 93.72</td><td>73.62</td></tr>\n",
       "\t<tr><td>44.19</td><td> 3.96</td><td>1.44</td><td> 91.09</td><td>71.49</td></tr>\n",
       "\t<tr><td>30.36</td><td> 5.12</td><td>2.00</td><td> 95.71</td><td>73.37</td></tr>\n",
       "\t<tr><td>61.08</td><td> 4.21</td><td>3.97</td><td> 96.04</td><td>71.52</td></tr>\n",
       "\t<tr><td>39.19</td><td> 3.83</td><td>3.76</td><td> 89.86</td><td>72.35</td></tr>\n",
       "\t<tr><td>47.00</td><td>13.38</td><td>3.00</td><td> 97.04</td><td>81.30</td></tr>\n",
       "\t<tr><td>53.52</td><td> 9.08</td><td>3.68</td><td> 87.47</td><td>77.65</td></tr>\n",
       "\t<tr><td>⋮</td><td>⋮</td><td>⋮</td><td>⋮</td><td>⋮</td></tr>\n",
       "\t<tr><td>82.53</td><td> 5.26</td><td>2.21</td><td> 86.77</td><td>76.53</td></tr>\n",
       "\t<tr><td>56.34</td><td> 4.71</td><td>1.73</td><td> 93.70</td><td>72.24</td></tr>\n",
       "\t<tr><td>48.54</td><td> 5.34</td><td>2.92</td><td> 85.28</td><td>77.00</td></tr>\n",
       "\t<tr><td>34.57</td><td> 6.39</td><td>2.93</td><td>104.82</td><td>74.29</td></tr>\n",
       "\t<tr><td>43.75</td><td> 7.36</td><td>3.29</td><td> 91.45</td><td>78.79</td></tr>\n",
       "\t<tr><td>55.47</td><td> 5.25</td><td>1.63</td><td> 86.94</td><td>75.66</td></tr>\n",
       "\t<tr><td>47.62</td><td> 8.74</td><td>3.16</td><td> 95.52</td><td>76.94</td></tr>\n",
       "\t<tr><td>42.73</td><td> 3.94</td><td>2.68</td><td> 94.09</td><td>70.87</td></tr>\n",
       "\t<tr><td>88.24</td><td> 3.69</td><td>1.91</td><td> 85.17</td><td>75.19</td></tr>\n",
       "\t<tr><td>45.76</td><td>22.07</td><td>2.74</td><td> 94.96</td><td>84.61</td></tr>\n",
       "\t<tr><td>36.54</td><td> 5.21</td><td>2.58</td><td>100.47</td><td>74.42</td></tr>\n",
       "\t<tr><td>56.45</td><td> 5.83</td><td>2.26</td><td> 88.16</td><td>75.83</td></tr>\n",
       "\t<tr><td>63.86</td><td> 3.36</td><td>1.92</td><td> 86.56</td><td>74.87</td></tr>\n",
       "\t<tr><td>46.58</td><td> 2.74</td><td>3.15</td><td> 85.71</td><td>72.28</td></tr>\n",
       "\t<tr><td>43.85</td><td> 8.21</td><td>3.00</td><td> 92.60</td><td>77.38</td></tr>\n",
       "\t<tr><td>84.42</td><td> 8.52</td><td>1.61</td><td> 83.68</td><td>80.45</td></tr>\n",
       "\t<tr><td>49.40</td><td> 9.54</td><td>2.49</td><td> 89.71</td><td>77.28</td></tr>\n",
       "\t<tr><td>55.81</td><td>16.25</td><td>3.14</td><td> 93.51</td><td>84.52</td></tr>\n",
       "\t<tr><td>62.66</td><td> 6.88</td><td>2.06</td><td> 90.47</td><td>78.50</td></tr>\n",
       "\t<tr><td>45.10</td><td> 4.74</td><td>1.57</td><td>102.91</td><td>70.55</td></tr>\n",
       "\t<tr><td>46.55</td><td> 8.44</td><td>3.07</td><td> 90.22</td><td>79.83</td></tr>\n",
       "\t<tr><td>42.67</td><td> 2.97</td><td>3.31</td><td> 92.34</td><td>70.88</td></tr>\n",
       "\t<tr><td>50.00</td><td> 9.29</td><td>2.68</td><td> 90.22</td><td>77.05</td></tr>\n",
       "\t<tr><td>42.42</td><td> 9.86</td><td>2.25</td><td> 97.61</td><td>78.85</td></tr>\n",
       "\t<tr><td>31.15</td><td> 4.63</td><td>2.26</td><td> 94.53</td><td>76.79</td></tr>\n",
       "\t<tr><td>29.31</td><td> 2.76</td><td>3.65</td><td>122.12</td><td>70.86</td></tr>\n",
       "\t<tr><td>37.74</td><td>11.10</td><td>3.15</td><td> 96.25</td><td>81.21</td></tr>\n",
       "\t<tr><td>49.25</td><td> 9.76</td><td>3.30</td><td>102.97</td><td>76.73</td></tr>\n",
       "\t<tr><td>50.00</td><td> 1.86</td><td>1.34</td><td> 93.03</td><td>67.77</td></tr>\n",
       "\t<tr><td>41.43</td><td> 4.00</td><td>2.31</td><td> 85.14</td><td>74.17</td></tr>\n",
       "</tbody>\n",
       "</table>\n"
      ],
      "text/latex": [
       "A tibble: 104 × 5\n",
       "\\begin{tabular}{lllll}\n",
       " percentage\\_win & avg\\_ace & avg\\_df & total\\_avg\\_svpt & first\\_win\\_percentage\\_avg\\\\\n",
       " <dbl> & <dbl> & <dbl> & <dbl> & <dbl>\\\\\n",
       "\\hline\n",
       "\t 51.27 &  6.02 & 2.27 &  92.95 & 73.35\\\\\n",
       "\t 47.06 &  3.97 & 2.32 &  96.43 & 71.86\\\\\n",
       "\t 59.26 &  4.58 & 2.41 &  89.00 & 75.87\\\\\n",
       "\t 69.35 &  9.06 & 3.48 &  88.41 & 77.35\\\\\n",
       "\t 50.98 &  9.31 & 2.17 &  90.87 & 78.18\\\\\n",
       "\t 49.56 &  7.25 & 2.73 &  97.30 & 76.72\\\\\n",
       "\t 55.00 &  6.70 & 3.39 &  91.45 & 76.13\\\\\n",
       "\t 63.16 &  7.22 & 2.89 &  99.75 & 74.95\\\\\n",
       "\t 51.90 & 10.17 & 5.11 &  94.68 & 79.38\\\\\n",
       "\t 36.67 &  9.45 & 1.23 &  89.68 & 75.71\\\\\n",
       "\t 54.48 &  6.68 & 2.05 &  90.90 & 76.67\\\\\n",
       "\t 47.06 &  5.18 & 3.40 &  84.53 & 74.23\\\\\n",
       "\t 46.77 &  4.86 & 3.03 &  90.83 & 73.75\\\\\n",
       "\t 55.74 &  5.35 & 2.09 &  94.03 & 73.12\\\\\n",
       "\t 48.55 &  3.13 & 3.12 &  92.22 & 69.57\\\\\n",
       "\t 50.00 &  4.80 & 2.70 &  99.17 & 73.75\\\\\n",
       "\t 62.71 &  8.26 & 3.08 &  83.22 & 79.00\\\\\n",
       "\t 63.74 &  6.61 & 2.58 &  93.31 & 75.53\\\\\n",
       "\t 37.84 &  8.43 & 1.43 &  99.32 & 75.83\\\\\n",
       "\t 38.33 &  8.17 & 3.78 & 100.09 & 77.49\\\\\n",
       "\t 55.64 &  8.59 & 5.00 &  94.54 & 78.92\\\\\n",
       "\t 59.09 &  2.68 & 2.88 &  90.62 & 70.15\\\\\n",
       "\t 69.65 &  6.11 & 2.71 &  89.99 & 76.89\\\\\n",
       "\t 43.86 &  4.60 & 4.32 &  93.72 & 73.62\\\\\n",
       "\t 44.19 &  3.96 & 1.44 &  91.09 & 71.49\\\\\n",
       "\t 30.36 &  5.12 & 2.00 &  95.71 & 73.37\\\\\n",
       "\t 61.08 &  4.21 & 3.97 &  96.04 & 71.52\\\\\n",
       "\t 39.19 &  3.83 & 3.76 &  89.86 & 72.35\\\\\n",
       "\t 47.00 & 13.38 & 3.00 &  97.04 & 81.30\\\\\n",
       "\t 53.52 &  9.08 & 3.68 &  87.47 & 77.65\\\\\n",
       "\t ⋮ & ⋮ & ⋮ & ⋮ & ⋮\\\\\n",
       "\t 82.53 &  5.26 & 2.21 &  86.77 & 76.53\\\\\n",
       "\t 56.34 &  4.71 & 1.73 &  93.70 & 72.24\\\\\n",
       "\t 48.54 &  5.34 & 2.92 &  85.28 & 77.00\\\\\n",
       "\t 34.57 &  6.39 & 2.93 & 104.82 & 74.29\\\\\n",
       "\t 43.75 &  7.36 & 3.29 &  91.45 & 78.79\\\\\n",
       "\t 55.47 &  5.25 & 1.63 &  86.94 & 75.66\\\\\n",
       "\t 47.62 &  8.74 & 3.16 &  95.52 & 76.94\\\\\n",
       "\t 42.73 &  3.94 & 2.68 &  94.09 & 70.87\\\\\n",
       "\t 88.24 &  3.69 & 1.91 &  85.17 & 75.19\\\\\n",
       "\t 45.76 & 22.07 & 2.74 &  94.96 & 84.61\\\\\n",
       "\t 36.54 &  5.21 & 2.58 & 100.47 & 74.42\\\\\n",
       "\t 56.45 &  5.83 & 2.26 &  88.16 & 75.83\\\\\n",
       "\t 63.86 &  3.36 & 1.92 &  86.56 & 74.87\\\\\n",
       "\t 46.58 &  2.74 & 3.15 &  85.71 & 72.28\\\\\n",
       "\t 43.85 &  8.21 & 3.00 &  92.60 & 77.38\\\\\n",
       "\t 84.42 &  8.52 & 1.61 &  83.68 & 80.45\\\\\n",
       "\t 49.40 &  9.54 & 2.49 &  89.71 & 77.28\\\\\n",
       "\t 55.81 & 16.25 & 3.14 &  93.51 & 84.52\\\\\n",
       "\t 62.66 &  6.88 & 2.06 &  90.47 & 78.50\\\\\n",
       "\t 45.10 &  4.74 & 1.57 & 102.91 & 70.55\\\\\n",
       "\t 46.55 &  8.44 & 3.07 &  90.22 & 79.83\\\\\n",
       "\t 42.67 &  2.97 & 3.31 &  92.34 & 70.88\\\\\n",
       "\t 50.00 &  9.29 & 2.68 &  90.22 & 77.05\\\\\n",
       "\t 42.42 &  9.86 & 2.25 &  97.61 & 78.85\\\\\n",
       "\t 31.15 &  4.63 & 2.26 &  94.53 & 76.79\\\\\n",
       "\t 29.31 &  2.76 & 3.65 & 122.12 & 70.86\\\\\n",
       "\t 37.74 & 11.10 & 3.15 &  96.25 & 81.21\\\\\n",
       "\t 49.25 &  9.76 & 3.30 & 102.97 & 76.73\\\\\n",
       "\t 50.00 &  1.86 & 1.34 &  93.03 & 67.77\\\\\n",
       "\t 41.43 &  4.00 & 2.31 &  85.14 & 74.17\\\\\n",
       "\\end{tabular}\n"
      ],
      "text/markdown": [
       "\n",
       "A tibble: 104 × 5\n",
       "\n",
       "| percentage_win &lt;dbl&gt; | avg_ace &lt;dbl&gt; | avg_df &lt;dbl&gt; | total_avg_svpt &lt;dbl&gt; | first_win_percentage_avg &lt;dbl&gt; |\n",
       "|---|---|---|---|---|\n",
       "| 51.27 |  6.02 | 2.27 |  92.95 | 73.35 |\n",
       "| 47.06 |  3.97 | 2.32 |  96.43 | 71.86 |\n",
       "| 59.26 |  4.58 | 2.41 |  89.00 | 75.87 |\n",
       "| 69.35 |  9.06 | 3.48 |  88.41 | 77.35 |\n",
       "| 50.98 |  9.31 | 2.17 |  90.87 | 78.18 |\n",
       "| 49.56 |  7.25 | 2.73 |  97.30 | 76.72 |\n",
       "| 55.00 |  6.70 | 3.39 |  91.45 | 76.13 |\n",
       "| 63.16 |  7.22 | 2.89 |  99.75 | 74.95 |\n",
       "| 51.90 | 10.17 | 5.11 |  94.68 | 79.38 |\n",
       "| 36.67 |  9.45 | 1.23 |  89.68 | 75.71 |\n",
       "| 54.48 |  6.68 | 2.05 |  90.90 | 76.67 |\n",
       "| 47.06 |  5.18 | 3.40 |  84.53 | 74.23 |\n",
       "| 46.77 |  4.86 | 3.03 |  90.83 | 73.75 |\n",
       "| 55.74 |  5.35 | 2.09 |  94.03 | 73.12 |\n",
       "| 48.55 |  3.13 | 3.12 |  92.22 | 69.57 |\n",
       "| 50.00 |  4.80 | 2.70 |  99.17 | 73.75 |\n",
       "| 62.71 |  8.26 | 3.08 |  83.22 | 79.00 |\n",
       "| 63.74 |  6.61 | 2.58 |  93.31 | 75.53 |\n",
       "| 37.84 |  8.43 | 1.43 |  99.32 | 75.83 |\n",
       "| 38.33 |  8.17 | 3.78 | 100.09 | 77.49 |\n",
       "| 55.64 |  8.59 | 5.00 |  94.54 | 78.92 |\n",
       "| 59.09 |  2.68 | 2.88 |  90.62 | 70.15 |\n",
       "| 69.65 |  6.11 | 2.71 |  89.99 | 76.89 |\n",
       "| 43.86 |  4.60 | 4.32 |  93.72 | 73.62 |\n",
       "| 44.19 |  3.96 | 1.44 |  91.09 | 71.49 |\n",
       "| 30.36 |  5.12 | 2.00 |  95.71 | 73.37 |\n",
       "| 61.08 |  4.21 | 3.97 |  96.04 | 71.52 |\n",
       "| 39.19 |  3.83 | 3.76 |  89.86 | 72.35 |\n",
       "| 47.00 | 13.38 | 3.00 |  97.04 | 81.30 |\n",
       "| 53.52 |  9.08 | 3.68 |  87.47 | 77.65 |\n",
       "| ⋮ | ⋮ | ⋮ | ⋮ | ⋮ |\n",
       "| 82.53 |  5.26 | 2.21 |  86.77 | 76.53 |\n",
       "| 56.34 |  4.71 | 1.73 |  93.70 | 72.24 |\n",
       "| 48.54 |  5.34 | 2.92 |  85.28 | 77.00 |\n",
       "| 34.57 |  6.39 | 2.93 | 104.82 | 74.29 |\n",
       "| 43.75 |  7.36 | 3.29 |  91.45 | 78.79 |\n",
       "| 55.47 |  5.25 | 1.63 |  86.94 | 75.66 |\n",
       "| 47.62 |  8.74 | 3.16 |  95.52 | 76.94 |\n",
       "| 42.73 |  3.94 | 2.68 |  94.09 | 70.87 |\n",
       "| 88.24 |  3.69 | 1.91 |  85.17 | 75.19 |\n",
       "| 45.76 | 22.07 | 2.74 |  94.96 | 84.61 |\n",
       "| 36.54 |  5.21 | 2.58 | 100.47 | 74.42 |\n",
       "| 56.45 |  5.83 | 2.26 |  88.16 | 75.83 |\n",
       "| 63.86 |  3.36 | 1.92 |  86.56 | 74.87 |\n",
       "| 46.58 |  2.74 | 3.15 |  85.71 | 72.28 |\n",
       "| 43.85 |  8.21 | 3.00 |  92.60 | 77.38 |\n",
       "| 84.42 |  8.52 | 1.61 |  83.68 | 80.45 |\n",
       "| 49.40 |  9.54 | 2.49 |  89.71 | 77.28 |\n",
       "| 55.81 | 16.25 | 3.14 |  93.51 | 84.52 |\n",
       "| 62.66 |  6.88 | 2.06 |  90.47 | 78.50 |\n",
       "| 45.10 |  4.74 | 1.57 | 102.91 | 70.55 |\n",
       "| 46.55 |  8.44 | 3.07 |  90.22 | 79.83 |\n",
       "| 42.67 |  2.97 | 3.31 |  92.34 | 70.88 |\n",
       "| 50.00 |  9.29 | 2.68 |  90.22 | 77.05 |\n",
       "| 42.42 |  9.86 | 2.25 |  97.61 | 78.85 |\n",
       "| 31.15 |  4.63 | 2.26 |  94.53 | 76.79 |\n",
       "| 29.31 |  2.76 | 3.65 | 122.12 | 70.86 |\n",
       "| 37.74 | 11.10 | 3.15 |  96.25 | 81.21 |\n",
       "| 49.25 |  9.76 | 3.30 | 102.97 | 76.73 |\n",
       "| 50.00 |  1.86 | 1.34 |  93.03 | 67.77 |\n",
       "| 41.43 |  4.00 | 2.31 |  85.14 | 74.17 |\n",
       "\n"
      ],
      "text/plain": [
       "    percentage_win avg_ace avg_df total_avg_svpt first_win_percentage_avg\n",
       "1   51.27           6.02   2.27    92.95         73.35                   \n",
       "2   47.06           3.97   2.32    96.43         71.86                   \n",
       "3   59.26           4.58   2.41    89.00         75.87                   \n",
       "4   69.35           9.06   3.48    88.41         77.35                   \n",
       "5   50.98           9.31   2.17    90.87         78.18                   \n",
       "6   49.56           7.25   2.73    97.30         76.72                   \n",
       "7   55.00           6.70   3.39    91.45         76.13                   \n",
       "8   63.16           7.22   2.89    99.75         74.95                   \n",
       "9   51.90          10.17   5.11    94.68         79.38                   \n",
       "10  36.67           9.45   1.23    89.68         75.71                   \n",
       "11  54.48           6.68   2.05    90.90         76.67                   \n",
       "12  47.06           5.18   3.40    84.53         74.23                   \n",
       "13  46.77           4.86   3.03    90.83         73.75                   \n",
       "14  55.74           5.35   2.09    94.03         73.12                   \n",
       "15  48.55           3.13   3.12    92.22         69.57                   \n",
       "16  50.00           4.80   2.70    99.17         73.75                   \n",
       "17  62.71           8.26   3.08    83.22         79.00                   \n",
       "18  63.74           6.61   2.58    93.31         75.53                   \n",
       "19  37.84           8.43   1.43    99.32         75.83                   \n",
       "20  38.33           8.17   3.78   100.09         77.49                   \n",
       "21  55.64           8.59   5.00    94.54         78.92                   \n",
       "22  59.09           2.68   2.88    90.62         70.15                   \n",
       "23  69.65           6.11   2.71    89.99         76.89                   \n",
       "24  43.86           4.60   4.32    93.72         73.62                   \n",
       "25  44.19           3.96   1.44    91.09         71.49                   \n",
       "26  30.36           5.12   2.00    95.71         73.37                   \n",
       "27  61.08           4.21   3.97    96.04         71.52                   \n",
       "28  39.19           3.83   3.76    89.86         72.35                   \n",
       "29  47.00          13.38   3.00    97.04         81.30                   \n",
       "30  53.52           9.08   3.68    87.47         77.65                   \n",
       "⋮   ⋮              ⋮       ⋮      ⋮              ⋮                       \n",
       "75  82.53           5.26   2.21    86.77         76.53                   \n",
       "76  56.34           4.71   1.73    93.70         72.24                   \n",
       "77  48.54           5.34   2.92    85.28         77.00                   \n",
       "78  34.57           6.39   2.93   104.82         74.29                   \n",
       "79  43.75           7.36   3.29    91.45         78.79                   \n",
       "80  55.47           5.25   1.63    86.94         75.66                   \n",
       "81  47.62           8.74   3.16    95.52         76.94                   \n",
       "82  42.73           3.94   2.68    94.09         70.87                   \n",
       "83  88.24           3.69   1.91    85.17         75.19                   \n",
       "84  45.76          22.07   2.74    94.96         84.61                   \n",
       "85  36.54           5.21   2.58   100.47         74.42                   \n",
       "86  56.45           5.83   2.26    88.16         75.83                   \n",
       "87  63.86           3.36   1.92    86.56         74.87                   \n",
       "88  46.58           2.74   3.15    85.71         72.28                   \n",
       "89  43.85           8.21   3.00    92.60         77.38                   \n",
       "90  84.42           8.52   1.61    83.68         80.45                   \n",
       "91  49.40           9.54   2.49    89.71         77.28                   \n",
       "92  55.81          16.25   3.14    93.51         84.52                   \n",
       "93  62.66           6.88   2.06    90.47         78.50                   \n",
       "94  45.10           4.74   1.57   102.91         70.55                   \n",
       "95  46.55           8.44   3.07    90.22         79.83                   \n",
       "96  42.67           2.97   3.31    92.34         70.88                   \n",
       "97  50.00           9.29   2.68    90.22         77.05                   \n",
       "98  42.42           9.86   2.25    97.61         78.85                   \n",
       "99  31.15           4.63   2.26    94.53         76.79                   \n",
       "100 29.31           2.76   3.65   122.12         70.86                   \n",
       "101 37.74          11.10   3.15    96.25         81.21                   \n",
       "102 49.25           9.76   3.30   102.97         76.73                   \n",
       "103 50.00           1.86   1.34    93.03         67.77                   \n",
       "104 41.43           4.00   2.31    85.14         74.17                   "
      ]
     },
     "metadata": {},
     "output_type": "display_data"
    }
   ],
   "source": [
    "#the following code tidies the data\n",
    "\n",
    "player_data <- data%>%\n",
    "    select(winner_name, \n",
    "           loser_name)%>%\n",
    "    filter(!is.na(winner_name), \n",
    "           !is.na(loser_name))\n",
    "#this code creates a dataframe containing all of the players' names in the original data (both winners and losers)\n",
    "#the frequency of repetition of these names is equivalent to the number of matches that each player partook in\n",
    "#(e.g. player X appears twice, he took part in 2 matches)\n",
    "\n",
    "player_data_column <- data.frame(all_players=unlist(player_data, use.names = FALSE))\n",
    "#this code creates a single column containing all of the players names\n",
    "\n",
    "winner_names <- player_data%>%\n",
    "    group_by(winner_name)%>%\n",
    "    summarize(n_wins = n())%>%\n",
    "    distinct()\n",
    "#this code creates a table containing only the winners names as well as the number of wins of each winning player\n",
    "\n",
    "n_games_all <- player_data_column%>%\n",
    "    group_by(all_players)%>%\n",
    "    summarize(n_games = n())%>%\n",
    "    subset(all_players %in% winner_names$winner_name)\n",
    "#this code adds a column to player_data_column containing the number of games each player partook in\n",
    "#it then extracts the rows which contain player names present in winner_names (i.e. restricts the data to only winners)\n",
    "\n",
    "winner_data <- tibble(winner_name = winner_names$winner_name,\n",
    "                      n_wins = winner_names$n_wins, \n",
    "                      n_games = n_games_all$n_games)%>%\n",
    "    mutate(percentage_win = (n_wins/n_games)*100)\n",
    "#this code creates a tibble containing the winners' names, their number of matches won, and the total number of matches they partook in\n",
    "#the mutate() function then adds a column detailing the win ratios of each winner in relation to their total number of matches played in (win/total)\n",
    "\n",
    "data <- data%>%\n",
    "    group_by(winner_name)%>%\n",
    "    summarize(number_of_wins = n(),\n",
    "              avg_ace = mean(w_ace),\n",
    "              avg_df = mean(w_df),\n",
    "              avg_svpt = mean(w_svpt),\n",
    "              avg_svgm = mean(w_SvGms),\n",
    "              avg_first = mean(w_1stIn),\n",
    "              avg_first_won = mean(w_1stWon))%>%\n",
    "#removing repeats in data by averaging all the values over three years\n",
    "    bind_cols(winner_data)%>%\n",
    "#combining the relevant columns in winner_data with the data dataframe\n",
    "    rename(winner_name = winner_name...1)%>%\n",
    "    mutate(total_avg_svpt = avg_svpt + avg_svgm,\n",
    "#summing service points and service games (both are points earned by serving)\n",
    "           first_win_percentage_avg = (avg_first_won/avg_first)*100)%>%\n",
    "#calculating the percentage of successful first serves\n",
    "     filter(n_games > 50)%>%\n",
    "#filtering for winners who play at least 50 games in order to eliminate outliers\n",
    "    select(percentage_win,\n",
    "           avg_ace, \n",
    "           avg_df, \n",
    "           total_avg_svpt, \n",
    "           first_win_percentage_avg)%>%\n",
    "#selecting relevant variables\n",
    "    mutate(avg_ace = round(avg_ace, 2),\n",
    "           avg_df = round(avg_df, 2), \n",
    "           total_avg_svpt = round(total_avg_svpt, 2), \n",
    "           first_win_percentage_avg = round(first_win_percentage_avg, 2),\n",
    "           percentage_win = round(percentage_win, 2))\n",
    "#converting variables to appropriate data types and rounding to 2 decimal places\n",
    "\n",
    "data"
   ]
  },
  {
   "cell_type": "markdown",
   "metadata": {},
   "source": [
    "### KNN Regression"
   ]
  },
  {
   "cell_type": "code",
   "execution_count": 9,
   "metadata": {},
   "outputs": [],
   "source": [
    "data_split <- initial_split(data, prop = 0.75, strata = percentage_win)\n",
    "data_train <- training(data_split)\n",
    "data_test <- testing(data_split)\n",
    "\n",
    "#randomly splits 75% of the data into the training and testing sets using\n",
    "#percentage_win as the strata"
   ]
  },
  {
   "cell_type": "code",
   "execution_count": 12,
   "metadata": {},
   "outputs": [],
   "source": [
    "recipe <- recipe(percentage_win ~ ., data = data_train) %>%\n",
    "  step_scale(all_predictors()) %>%\n",
    "  step_center(all_predictors())\n",
    "\n",
    "#creating a recipe"
   ]
  },
  {
   "cell_type": "code",
   "execution_count": 14,
   "metadata": {},
   "outputs": [],
   "source": [
    "folds <- vfold_cv(data_train, v = 10, strata = percentage_win)\n",
    "\n",
    "#tuning the classifier"
   ]
  },
  {
   "cell_type": "code",
   "execution_count": 13,
   "metadata": {},
   "outputs": [],
   "source": [
    "model <- nearest_neighbor(weight_func = \"rectangular\", \n",
    "                              neighbors = tune()) %>%\n",
    "  set_engine(\"kknn\") %>%\n",
    "  set_mode(\"regression\")\n",
    "\n",
    "#creating a predictive KNN model"
   ]
  },
  {
   "cell_type": "code",
   "execution_count": 45,
   "metadata": {},
   "outputs": [
    {
     "data": {
      "text/html": [
       "<table>\n",
       "<caption>A tibble: 1 × 7</caption>\n",
       "<thead>\n",
       "\t<tr><th scope=col>neighbors</th><th scope=col>.metric</th><th scope=col>.estimator</th><th scope=col>mean</th><th scope=col>n</th><th scope=col>std_err</th><th scope=col>.config</th></tr>\n",
       "\t<tr><th scope=col>&lt;int&gt;</th><th scope=col>&lt;chr&gt;</th><th scope=col>&lt;chr&gt;</th><th scope=col>&lt;dbl&gt;</th><th scope=col>&lt;int&gt;</th><th scope=col>&lt;dbl&gt;</th><th scope=col>&lt;chr&gt;</th></tr>\n",
       "</thead>\n",
       "<tbody>\n",
       "\t<tr><td>13</td><td>rmse</td><td>standard</td><td>10.68895</td><td>10</td><td>0.7123849</td><td>Model13</td></tr>\n",
       "</tbody>\n",
       "</table>\n"
      ],
      "text/latex": [
       "A tibble: 1 × 7\n",
       "\\begin{tabular}{lllllll}\n",
       " neighbors & .metric & .estimator & mean & n & std\\_err & .config\\\\\n",
       " <int> & <chr> & <chr> & <dbl> & <int> & <dbl> & <chr>\\\\\n",
       "\\hline\n",
       "\t 13 & rmse & standard & 10.68895 & 10 & 0.7123849 & Model13\\\\\n",
       "\\end{tabular}\n"
      ],
      "text/markdown": [
       "\n",
       "A tibble: 1 × 7\n",
       "\n",
       "| neighbors &lt;int&gt; | .metric &lt;chr&gt; | .estimator &lt;chr&gt; | mean &lt;dbl&gt; | n &lt;int&gt; | std_err &lt;dbl&gt; | .config &lt;chr&gt; |\n",
       "|---|---|---|---|---|---|---|\n",
       "| 13 | rmse | standard | 10.68895 | 10 | 0.7123849 | Model13 |\n",
       "\n"
      ],
      "text/plain": [
       "  neighbors .metric .estimator mean     n  std_err   .config\n",
       "1 13        rmse    standard   10.68895 10 0.7123849 Model13"
      ]
     },
     "metadata": {},
     "output_type": "display_data"
    },
    {
     "data": {
      "text/html": [
       "13"
      ],
      "text/latex": [
       "13"
      ],
      "text/markdown": [
       "13"
      ],
      "text/plain": [
       "[1] 13"
      ]
     },
     "metadata": {},
     "output_type": "display_data"
    }
   ],
   "source": [
    "rmspe <- workflow() %>%\n",
    "  add_recipe(recipe) %>%\n",
    "  add_model(model) %>%\n",
    "  tune_grid(resamples = folds, grid = 100) %>%\n",
    "  collect_metrics() %>%\n",
    "  filter(.metric == \"rmse\") %>%\n",
    "  arrange(mean) %>%\n",
    "  slice(1) \n",
    "rmspe\n",
    "\n",
    "kmin <- rmspe %>%\n",
    "    pull(neighbors)\n",
    "kmin"
   ]
  },
  {
   "cell_type": "code",
   "execution_count": 40,
   "metadata": {},
   "outputs": [],
   "source": [
    "model_13 <- nearest_neighbor(weight_func = \"rectangular\", neighbors = kmin) %>%\n",
    "  set_engine(\"kknn\") %>%\n",
    "  set_mode(\"regression\")"
   ]
  },
  {
   "cell_type": "code",
   "execution_count": 46,
   "metadata": {},
   "outputs": [
    {
     "data": {
      "text/html": [
       "<table>\n",
       "<caption>A tibble: 1 × 3</caption>\n",
       "<thead>\n",
       "\t<tr><th scope=col>.metric</th><th scope=col>.estimator</th><th scope=col>.estimate</th></tr>\n",
       "\t<tr><th scope=col>&lt;chr&gt;</th><th scope=col>&lt;chr&gt;</th><th scope=col>&lt;dbl&gt;</th></tr>\n",
       "</thead>\n",
       "<tbody>\n",
       "\t<tr><td>rmse</td><td>standard</td><td>10.23038</td></tr>\n",
       "</tbody>\n",
       "</table>\n"
      ],
      "text/latex": [
       "A tibble: 1 × 3\n",
       "\\begin{tabular}{lll}\n",
       " .metric & .estimator & .estimate\\\\\n",
       " <chr> & <chr> & <dbl>\\\\\n",
       "\\hline\n",
       "\t rmse & standard & 10.23038\\\\\n",
       "\\end{tabular}\n"
      ],
      "text/markdown": [
       "\n",
       "A tibble: 1 × 3\n",
       "\n",
       "| .metric &lt;chr&gt; | .estimator &lt;chr&gt; | .estimate &lt;dbl&gt; |\n",
       "|---|---|---|\n",
       "| rmse | standard | 10.23038 |\n",
       "\n"
      ],
      "text/plain": [
       "  .metric .estimator .estimate\n",
       "1 rmse    standard   10.23038 "
      ]
     },
     "metadata": {},
     "output_type": "display_data"
    }
   ],
   "source": [
    "workflow <- workflow() %>%\n",
    "  add_recipe(recipe) %>%\n",
    "  add_model(model_13) %>%\n",
    "  fit(data = data_train)\n",
    "\n",
    "rmse <- workflow %>%\n",
    "    predict(data_train) %>%\n",
    "    bind_cols(data_train) %>%\n",
    "    metrics(truth = percentage_win, estimate = .pred) %>%\n",
    "    filter(.metric == \"rmse\")\n",
    "rmse"
   ]
  },
  {
   "cell_type": "code",
   "execution_count": 47,
   "metadata": {},
   "outputs": [
    {
     "data": {
      "text/html": [
       "<table>\n",
       "<caption>A tibble: 1 × 3</caption>\n",
       "<thead>\n",
       "\t<tr><th scope=col>.metric</th><th scope=col>.estimator</th><th scope=col>.estimate</th></tr>\n",
       "\t<tr><th scope=col>&lt;chr&gt;</th><th scope=col>&lt;chr&gt;</th><th scope=col>&lt;dbl&gt;</th></tr>\n",
       "</thead>\n",
       "<tbody>\n",
       "\t<tr><td>rmse</td><td>standard</td><td>9.882474</td></tr>\n",
       "</tbody>\n",
       "</table>\n"
      ],
      "text/latex": [
       "A tibble: 1 × 3\n",
       "\\begin{tabular}{lll}\n",
       " .metric & .estimator & .estimate\\\\\n",
       " <chr> & <chr> & <dbl>\\\\\n",
       "\\hline\n",
       "\t rmse & standard & 9.882474\\\\\n",
       "\\end{tabular}\n"
      ],
      "text/markdown": [
       "\n",
       "A tibble: 1 × 3\n",
       "\n",
       "| .metric &lt;chr&gt; | .estimator &lt;chr&gt; | .estimate &lt;dbl&gt; |\n",
       "|---|---|---|\n",
       "| rmse | standard | 9.882474 |\n",
       "\n"
      ],
      "text/plain": [
       "  .metric .estimator .estimate\n",
       "1 rmse    standard   9.882474 "
      ]
     },
     "metadata": {},
     "output_type": "display_data"
    }
   ],
   "source": [
    "summary <- workflow %>%\n",
    "  predict(data_test) %>%\n",
    "  bind_cols(data_test) %>%\n",
    "  metrics(truth = percentage_win, estimate = .pred) %>%\n",
    "  filter(.metric == \"rmse\")\n",
    "summary"
   ]
  },
  {
   "cell_type": "code",
   "execution_count": 48,
   "metadata": {},
   "outputs": [
    {
     "data": {
      "image/png": "[encoded data removed]",
      "text/plain": [
       "plot without title"
      ]
     },
     "metadata": {
      "image/png": {
       "height": 420,
       "width": 420
      }
     },
     "output_type": "display_data"
    }
   ],
   "source": [
    "options(repr.plot.width = 7, repr.plot.height = 7)\n",
    "\n",
    "predictions <- workflow %>%\n",
    "  predict(data_train)%>%\n",
    "  bind_cols(data_train)\n",
    "\n",
    "plot <- ggplot(predictions, aes(x = avg_ace, y = percentage_win)) +\n",
    "  geom_point(alpha = 0.4) +\n",
    "    xlab(\"Average Number of Aces of Winning Player\") +\n",
    "    ylab(\"Percentage Wins of Winning Player\") +  \n",
    "    geom_line(data = predictions, \n",
    "            mapping = aes(x = avg_ace, y = .pred), \n",
    "            color = \"blue\") +\n",
    "  ggtitle(\"Scatterplot of Average Number of Aces Against Percentage Wins of Winning Player\")\n",
    "\n",
    "plot"
   ]
  },
  {
   "cell_type": "code",
   "execution_count": null,
   "metadata": {},
   "outputs": [],
   "source": []
  }
 ],
 "metadata": {
  "kernelspec": {
   "display_name": "R",
   "language": "R",
   "name": "ir"
  },
  "language_info": {
   "codemirror_mode": "r",
   "file_extension": ".r",
   "mimetype": "text/x-r-source",
   "name": "R",
   "pygments_lexer": "r",
   "version": "4.0.0"
  }
 },
 "nbformat": 4,
 "nbformat_minor": 4
}
